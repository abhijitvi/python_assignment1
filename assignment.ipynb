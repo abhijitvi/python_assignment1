{
  "nbformat": 4,
  "nbformat_minor": 0,
  "metadata": {
    "colab": {
      "provenance": [],
      "authorship_tag": "ABX9TyP9TdFtwlutgvj+W5zIFb/w",
      "include_colab_link": true
    },
    "kernelspec": {
      "name": "python3",
      "display_name": "Python 3"
    },
    "language_info": {
      "name": "python"
    }
  },
  "cells": [
    {
      "cell_type": "markdown",
      "metadata": {
        "id": "view-in-github",
        "colab_type": "text"
      },
      "source": [
        "<a href=\"https://colab.research.google.com/github/abhijitvi/python_assignment1/blob/main/assignment.ipynb\" target=\"_parent\"><img src=\"https://colab.research.google.com/assets/colab-badge.svg\" alt=\"Open In Colab\"/></a>"
      ]
    },
    {
      "cell_type": "code",
      "source": [
        "def print_shortest_substring(s, x):\n",
        "  min_length = float('inf')\n",
        "  track = {}\n",
        "  res = []\n",
        "\n",
        "\n",
        "  for ind in range(len(s)):\n",
        "    if s[ind] not in track:\n",
        "      track[s[ind]] = ind\n",
        "    else:\n",
        "      l = ind + 1 - track[s[ind]]\n",
        "      if l < min_length and l >= x:\n",
        "        out = s[track[s[ind]]:ind+1]\n",
        "        res = [out]\n",
        "        min_length = l\n",
        "      elif l == min_length and l >= x:\n",
        "        out = s[track[s[ind]]:ind+1]\n",
        "        res.append(out)\n",
        "      track[s[ind]] = ind\n",
        "  if len(res) == 0:\n",
        "    return 'Not Found'\n",
        "  else:\n",
        "    return res\n",
        "\n",
        "\n",
        "s = 'abccdbacca'\n",
        "x = int(input())\n",
        "print_shortest_substring(s, x)"
      ],
      "metadata": {
        "colab": {
          "base_uri": "https://localhost:8080/"
        },
        "id": "1u3h2hJVYXHD",
        "outputId": "5ba8fd84-fb56-4ad8-adf2-578efb50a153"
      },
      "execution_count": 13,
      "outputs": [
        {
          "name": "stdout",
          "output_type": "stream",
          "text": [
            "3\n"
          ]
        },
        {
          "output_type": "execute_result",
          "data": {
            "text/plain": [
              "['acca']"
            ]
          },
          "metadata": {},
          "execution_count": 13
        }
      ]
    },
    {
      "cell_type": "code",
      "source": [
        "def ascii_change(s):\n",
        "  res = list(s)\n",
        "  track = set()\n",
        "\n",
        "  def change_even(res, ind):\n",
        "    n = ord(res[ind+1]) + ord(res[ind]) % 7\n",
        "    if n >= 0 and n <= 128:\n",
        "      return chr(n)\n",
        "    else:\n",
        "      return chr(83)\n",
        "\n",
        "  def change_odd (res, ind):\n",
        "    n = ord(res[ind-1]) - ord(res[ind]) % 5\n",
        "    if n >= 0 and n <= 128:\n",
        "      return chr(n)\n",
        "    else:\n",
        "      return chr(83)\n",
        "\n",
        "\n",
        "  for ind in range(len(s)):\n",
        "\n",
        "    if ind == 0 and ord(res[ind]) % 2 == 0:\n",
        "      res[ind+1] = change_even(res, ind)\n",
        "      track.add(ind+1)\n",
        "\n",
        "    elif ind == len(s) - 1 and ord(res[ind]) % 2 != 0 and ind - 1 not in track:\n",
        "      res[ind-1] = change_odd(res, ind)\n",
        "      track.add(ind-1)\n",
        "\n",
        "    elif ind > 0 and ind < len(s) - 1:\n",
        "      if ord(res[ind]) % 2 == 0 and ind + 1 not in track:\n",
        "        res[ind+1] = change_even(res, ind)\n",
        "        track.add(ind+1)\n",
        "\n",
        "      elif ord(res[ind]) % 2 != 0 and ind-1 not in track:\n",
        "        res[ind-1] = change_odd(res, ind)\n",
        "        track.add(ind-1)\n",
        "  return \"\".join(res)\n",
        "\n",
        "\n",
        "s = 'sHQen}'\n",
        "ascii_change(s)"
      ],
      "metadata": {
        "colab": {
          "base_uri": "https://localhost:8080/",
          "height": 35
        },
        "id": "8tTqbC2yiIoI",
        "outputId": "1139ec33-4efd-48b0-e3e3-da3c8e48ad1e"
      },
      "execution_count": 14,
      "outputs": [
        {
          "output_type": "execute_result",
          "data": {
            "text/plain": [
              "'sESekS'"
            ],
            "application/vnd.google.colaboratory.intrinsic+json": {
              "type": "string"
            }
          },
          "metadata": {},
          "execution_count": 14
        }
      ]
    }
  ]
}